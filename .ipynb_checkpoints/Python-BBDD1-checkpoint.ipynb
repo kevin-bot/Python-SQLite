{
 "cells": [
  {
   "cell_type": "code",
   "execution_count": 1,
   "metadata": {},
   "outputs": [],
   "source": [
    "import sqlite3"
   ]
  },
  {
   "cell_type": "code",
   "execution_count": 7,
   "metadata": {},
   "outputs": [],
   "source": [
    "\n",
    "conexion = sqlite3.connect(\"PrimeraBase\") #si la tabla no existe, se crea automaticamente en la carpeta donde esta el fichero\n",
    "\n",
    "#crear el cursor\n",
    "mi_cursor = conexion.cursor()\n",
    "\n",
    "#creamos la tabla si no existe\n",
    "mi_cursor.execute(\"CREATE TABLE IF NOT EXISTS PRODUCTOS  (NOMBRE_ARTICULO VARCHAR(50), PRECION INT, SECCION VARCHAR(20))\")\n",
    "\n",
    "#insertamos datos en la tabla\n",
    "mi_cursor.execute(\"INSERT INTO PRODUCTOS VALUES('BALÓN', 20000, 'DEPORTE')\")\n",
    "\n",
    "#se hace una confirmacion en la tabla\n",
    "conexion.commit()\n",
    "\n",
    "conexion.close() # siempre de debe de cerrar la conexion"
   ]
  }
 ],
 "metadata": {
  "kernelspec": {
   "display_name": "Python 3",
   "language": "python",
   "name": "python3"
  },
  "language_info": {
   "codemirror_mode": {
    "name": "ipython",
    "version": 3
   },
   "file_extension": ".py",
   "mimetype": "text/x-python",
   "name": "python",
   "nbconvert_exporter": "python",
   "pygments_lexer": "ipython3",
   "version": "3.7.6"
  }
 },
 "nbformat": 4,
 "nbformat_minor": 4
}
