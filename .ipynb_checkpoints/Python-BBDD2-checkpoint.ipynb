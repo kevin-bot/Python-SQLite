{
 "cells": [
  {
   "cell_type": "code",
   "execution_count": 1,
   "metadata": {},
   "outputs": [],
   "source": [
    "import sqlite3"
   ]
  },
  {
   "cell_type": "code",
   "execution_count": null,
   "metadata": {
    "scrolled": true
   },
   "outputs": [],
   "source": [
    "#insert a lot data\n",
    "\n",
    "mi_conexion = sqlite3.connect(\"PrimeraBase\")\n",
    "\n",
    "mi_cursor = mi_conexion.cursor()\n",
    "\n",
    "varios_productos = [(\"Camisa\",40000,\"Deporte\"),(\"Plato\",2000,\"Ceramica\"),(\"Arroz\",2900,\"Granos\")]\n",
    "\n",
    "#metodo executemany \n",
    "# mi_cursor.executemany(\"INSERT INTO PRODUCTOS VALUES(?,?,?)\",varios_productos)\n",
    "\n",
    "\n",
    "#SELECT ALL PRODUCTO\n",
    "mi_cursor.execute(\"SELECT * FROM PRODUCTOS\")\n",
    "\n",
    "lista_productos = mi_cursor.fetchall()\n",
    "\n",
    "\n",
    "mi_conexion.commit()\n",
    "\n",
    "mi_conexion.close()\n"
   ]
  },
  {
   "cell_type": "code",
   "execution_count": 8,
   "metadata": {},
   "outputs": [
    {
     "name": "stdout",
     "output_type": "stream",
     "text": [
      "La lista de producto es:  [('BALÓN', 20000, 'DEPORTE'), ('Camisa', 40000, 'Deporte'), ('Plato', 2000, 'Ceramica'), ('Arroz', 2900, 'Granos')]\n",
      "('BALÓN', 20000, 'DEPORTE')\n",
      "('Camisa', 40000, 'Deporte')\n",
      "('Plato', 2000, 'Ceramica')\n",
      "('Arroz', 2900, 'Granos')\n"
     ]
    }
   ],
   "source": [
    "print(\"La lista de producto es: \",lista_productos)\n",
    "\n",
    "#recorrer lista elemento por elmento\n",
    "for producto in lista_productos:\n",
    "    print(producto)"
   ]
  }
 ],
 "metadata": {
  "kernelspec": {
   "display_name": "Python 3",
   "language": "python",
   "name": "python3"
  },
  "language_info": {
   "codemirror_mode": {
    "name": "ipython",
    "version": 3
   },
   "file_extension": ".py",
   "mimetype": "text/x-python",
   "name": "python",
   "nbconvert_exporter": "python",
   "pygments_lexer": "ipython3",
   "version": "3.7.6"
  }
 },
 "nbformat": 4,
 "nbformat_minor": 4
}
