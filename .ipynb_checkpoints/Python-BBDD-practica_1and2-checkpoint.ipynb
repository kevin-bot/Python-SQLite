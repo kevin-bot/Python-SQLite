{
 "cells": [
  {
   "cell_type": "code",
   "execution_count": 7,
   "metadata": {},
   "outputs": [],
   "source": [
    "import sqlite3"
   ]
  },
  {
   "cell_type": "code",
   "execution_count": 8,
   "metadata": {},
   "outputs": [],
   "source": [
    "def conectBDsqlite(name_database : str):\n",
    "    return sqlite3.connect(name_database)\n",
    "\n",
    "def closeBdslite(conection : sqlite3):\n",
    "    conection.close()\n",
    "\n",
    "def createtable(name_database):\n",
    "    \n",
    "    #conectar a bd \n",
    "    miconexion = conectBDsqlite(name_database)\n",
    "    \n",
    "    mi_cursor = miconexion.cursor()\n",
    "    \n",
    "    mi_cursor.execute(\"CREATE TABLE IF NOT EXISTS USUARIOS (NOMBRE VARCHAR(10),EDAD INT,CARGO VARCHAR(10))\")\n",
    "        \n",
    "    miconexion.commit()\n",
    "        \n",
    "    #cerrar conexion a bd\n",
    "    closeBdslite(miconexion)\n",
    "    \n",
    "def insertUsuario(lista_usuarios: list,name_database:str ):\n",
    "            \n",
    "    #conectar a la bd \n",
    "    mi_conexion = conectBDsqlite(name_database)\n",
    "    \n",
    "    #crear el cursor\n",
    "    mi_cursor = mi_conexion.cursor()\n",
    "    \n",
    "    #ejecutar la inserción\n",
    "    mi_cursor.executemany(\"INSERT INTO USUARIOS VALUES(?,?,?)\",lista_usuarios)\n",
    "    \n",
    "    #confirmar\n",
    "    mi_conexion.commit()\n",
    "    \n",
    "    #cerrar conexion \n",
    "    closeBdslite(mi_conexion)"
   ]
  },
  {
   "cell_type": "code",
   "execution_count": 4,
   "metadata": {},
   "outputs": [],
   "source": [
    "def select_usuarios(name_database:str):\n",
    "    mi_conexion = conectBDsqlite(name_database)\n",
    "    \n",
    "    mi_cursor = mi_conexion.cursor()\n",
    "    \n",
    "    mi_cursor.execute(\"SELECT NOMBRE,EDAD,CARGO FROM USUARIOS\")\n",
    "    \n",
    "    lista_usuarios_select = mi_cursor.fetchall()\n",
    "    \n",
    "    mi_conexion.commit()\n",
    "    \n",
    "    mi_conexion.close()\n",
    "    \n",
    "    return lista_usuarios_select"
   ]
  },
  {
   "cell_type": "code",
   "execution_count": 2,
   "metadata": {},
   "outputs": [],
   "source": [
    "def main():\n",
    "    name_database = \"Usuarios\"\n",
    "    \n",
    "    #consultar usuarios\n",
    "    for usuarios in select_usuarios(name_database):\n",
    "        print(usuarios)\n",
    "        \n",
    "    #pedir numero de usurios a insertar\n",
    "    n_usuarios_insert = input(\"Inserte cuantos usuario desea registrar: \")\n",
    "    \n",
    "    lista_inser_user = []\n",
    "    \n",
    "    for i in range(int(n_usuarios_insert)):\n",
    "        name_usr = input(\"Name user No \"+str(i)+\" : \")\n",
    "        age_user = input(\"Age user No \"+str(i)+\" : \")\n",
    "        cargo_user = input(\"Cargo user No \"+str(i)+\" : \")\n",
    "        \n",
    "        lista_inser_user.append((name_usr,age_user,cargo_user))\n",
    "    \n",
    "    #insertamos en la bd\n",
    "    insertUsuario(lista_inser_user,name_database)\n",
    "            "
   ]
  },
  {
   "cell_type": "code",
   "execution_count": 9,
   "metadata": {
    "scrolled": true
   },
   "outputs": [
    {
     "name": "stdout",
     "output_type": "stream",
     "text": [
      "('Kevin', 20, 'developer')\n",
      "('Daniela', 20, 'developer')\n",
      "('Kevin', 20, 'developer')\n",
      "('Daniela', 20, 'developer')\n",
      "('Andres', 20, 'Developer web')\n",
      "('lola', 40, 'fdsa')\n",
      "('camilo', 60, 'dev')\n",
      "('tola', 30, 'desing')\n",
      "Inserte cuantos usuario desea registrar: 0\n"
     ]
    }
   ],
   "source": [
    "main()\n"
   ]
  }
 ],
 "metadata": {
  "kernelspec": {
   "display_name": "Python 3",
   "language": "python",
   "name": "python3"
  },
  "language_info": {
   "codemirror_mode": {
    "name": "ipython",
    "version": 3
   },
   "file_extension": ".py",
   "mimetype": "text/x-python",
   "name": "python",
   "nbconvert_exporter": "python",
   "pygments_lexer": "ipython3",
   "version": "3.7.6"
  }
 },
 "nbformat": 4,
 "nbformat_minor": 4
}
