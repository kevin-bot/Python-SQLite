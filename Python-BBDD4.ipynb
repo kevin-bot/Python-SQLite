{
 "cells": [
  {
   "cell_type": "code",
   "execution_count": 1,
   "metadata": {},
   "outputs": [],
   "source": [
    "import sqlite3"
   ]
  },
  {
   "cell_type": "code",
   "execution_count": 9,
   "metadata": {},
   "outputs": [
    {
     "name": "stdout",
     "output_type": "stream",
     "text": [
      "[('1', 'Arroz', 35, 'Granos'), ('3', 'Lenteja', 2500, 'Granos')]\n",
      "[('1', 'Arroz', 35, 'Granos'), ('3', 'Lenteja', 2500, 'Granos')]\n"
     ]
    }
   ],
   "source": [
    "mi_conexion = sqlite3.connect(\"GestionProductos\");\n",
    "\n",
    "mi_cursor = mi_conexion.cursor()\n",
    "\n",
    "#CRUD\n",
    "\n",
    "#CONSULTAR \n",
    "mi_cursor.execute(\"SELECT * FROM PRODUCTOS WHERE SECCION = 'Granos' \")\n",
    "productos_lista = mi_cursor.fetchall()\n",
    "print(productos_lista)\n",
    "\n",
    "#UPDATE\n",
    "mi_cursor.execute(\"UPDATE PRODUCTOS SET PRECIO = 35 WHERE CODIGO = '1' \")\n",
    "\n",
    "#DELETE\n",
    "mi_cursor.execute(\"DELETE FROM PRODUCTOS WHERE CODIGO = '2' \")\n",
    "print(productos_lista)\n",
    "\n",
    "\n",
    "mi_conexion.commit()\n",
    "mi_conexion.close()\n",
    "\n"
   ]
  }
 ],
 "metadata": {
  "kernelspec": {
   "display_name": "Python 3",
   "language": "python",
   "name": "python3"
  },
  "language_info": {
   "codemirror_mode": {
    "name": "ipython",
    "version": 3
   },
   "file_extension": ".py",
   "mimetype": "text/x-python",
   "name": "python",
   "nbconvert_exporter": "python",
   "pygments_lexer": "ipython3",
   "version": "3.7.6"
  }
 },
 "nbformat": 4,
 "nbformat_minor": 4
}
