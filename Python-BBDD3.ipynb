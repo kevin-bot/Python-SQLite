{
 "cells": [
  {
   "cell_type": "code",
   "execution_count": 1,
   "metadata": {},
   "outputs": [],
   "source": [
    "import sqlite3"
   ]
  },
  {
   "cell_type": "code",
   "execution_count": 4,
   "metadata": {},
   "outputs": [],
   "source": [
    "conexion = sqlite3.connect(\"GestionProductos\")\n",
    "\n",
    "mi_cursor = conexion.cursor()\n",
    "\n",
    "#CREAMOR TABLE\n",
    "mi_cursor.execute(\"CREATE TABLE IF NOT EXISTS PRODUCTOS (CODIGO VARCHAR(4) PRIMARY KEY,NOMBRE VARCHAR (10),PRECIO INT,SECCION VARCHAR(10))\")\n",
    "\n",
    "lista_producto = [ (\"1\",\"Arroz\",2700,\"Granos\"), (\"2\",\"Frijol\",3000,\"Granos\"), (\"3\",\"Lenteja\",2500,\"Granos\") ]\n",
    "\n",
    "mi_cursor.executemany(\"INSERT INTO PRODUCTOS VALUES(?,?,?,?)\",lista_producto)\n",
    "\n",
    "conexion.commit()\n",
    "conexion.close()"
   ]
  }
 ],
 "metadata": {
  "kernelspec": {
   "display_name": "Python 3",
   "language": "python",
   "name": "python3"
  },
  "language_info": {
   "codemirror_mode": {
    "name": "ipython",
    "version": 3
   },
   "file_extension": ".py",
   "mimetype": "text/x-python",
   "name": "python",
   "nbconvert_exporter": "python",
   "pygments_lexer": "ipython3",
   "version": "3.7.6"
  }
 },
 "nbformat": 4,
 "nbformat_minor": 4
}
